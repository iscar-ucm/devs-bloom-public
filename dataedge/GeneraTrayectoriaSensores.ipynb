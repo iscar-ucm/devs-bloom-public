{
 "cells": [
  {
   "cell_type": "code",
   "execution_count": 15,
   "metadata": {},
   "outputs": [],
   "source": [
    "#This file Generates a File to ask sensors telemetries\n",
    "from datetime import datetime, timedelta\n",
    "import numpy as np \n",
    "import pandas as pd\n",
    "import matplotlib.pyplot as plt\n",
    "\n",
    "inicio = datetime(2008,8,23,0,0,0)\n",
    "#fin   = datetime(2008,8,27,0,0,0)\n",
    "fin   = datetime(2008,9,7,0,0,0)\n",
    "\n",
    "delta= 30*60 #seconds\n",
    "diferencia = fin - inicio\n",
    "ts=diferencia.total_seconds()\n",
    "r=range(0,round(ts)+1,delta)\n",
    "DateTime = [inicio + timedelta(seconds=s) for s in r] \n",
    "n=len(DateTime)\n",
    "#print(DateTime)\n",
    "\n",
    "ILat=47.505\n",
    "ELat=47.52\n",
    "lat=np.linspace(ILat,ELat,n)\n",
    "Lat=lat.tolist()\n",
    "#print(Lat)\n",
    "\n",
    "ILon=-122.215\n",
    "ELon=-122.225\n",
    "lon=np.linspace(ILon,ELon,n)\n",
    "Lon=lon.tolist()\n",
    "#print(Lon)\n",
    "\n",
    "IDep=0\n",
    "EDep=0\n",
    "dep=np.linspace(IDep,EDep,n)\n",
    "Depth=dep.tolist()\n",
    "#print(Depth)\n"
   ]
  },
  {
   "cell_type": "code",
   "execution_count": 16,
   "metadata": {},
   "outputs": [
    {
     "name": "stdout",
     "output_type": "stream",
     "text": [
      "               DateTime        Lat         Lon  Depth Sensor\n",
      "0   2008-08-23 00:00:00  47.505000 -122.215000    0.0    NOX\n",
      "1   2008-08-23 00:30:00  47.505021 -122.215014    0.0    NOX\n",
      "2   2008-08-23 01:00:00  47.505042 -122.215028    0.0    NOX\n",
      "3   2008-08-23 01:30:00  47.505063 -122.215042    0.0    NOX\n",
      "4   2008-08-23 02:00:00  47.505083 -122.215056    0.0    NOX\n",
      "..                  ...        ...         ...    ...    ...\n",
      "716 2008-09-06 22:00:00  47.519917 -122.224944    0.0    NOX\n",
      "717 2008-09-06 22:30:00  47.519938 -122.224958    0.0    NOX\n",
      "718 2008-09-06 23:00:00  47.519958 -122.224972    0.0    NOX\n",
      "719 2008-09-06 23:30:00  47.519979 -122.224986    0.0    NOX\n",
      "720 2008-09-07 00:00:00  47.520000 -122.225000    0.0    NOX\n",
      "\n",
      "[721 rows x 5 columns]\n"
     ]
    }
   ],
   "source": [
    "Var='NOX'\n",
    "filename='Sensor2008_'+Var+'.csv'\n",
    "\n",
    "Sensor = [Var for x in r] \n",
    "tabla=pd.DataFrame({'DateTime':DateTime,'Lat':Lat,'Lon':Lon,'Depth':Depth,'Sensor':Sensor},index=None)\n",
    "print(tabla)\n",
    "tabla.to_csv(filename,index=False)  #Escritura de resultados a excel"
   ]
  },
  {
   "cell_type": "code",
   "execution_count": 17,
   "metadata": {},
   "outputs": [
    {
     "name": "stdout",
     "output_type": "stream",
     "text": [
      "               DateTime        Lat         Lon  Depth Sensor\n",
      "0   2008-08-23 00:00:00  47.505000 -122.215000    0.0    DOX\n",
      "1   2008-08-23 00:30:00  47.505021 -122.215014    0.0    DOX\n",
      "2   2008-08-23 01:00:00  47.505042 -122.215028    0.0    DOX\n",
      "3   2008-08-23 01:30:00  47.505063 -122.215042    0.0    DOX\n",
      "4   2008-08-23 02:00:00  47.505083 -122.215056    0.0    DOX\n",
      "..                  ...        ...         ...    ...    ...\n",
      "716 2008-09-06 22:00:00  47.519917 -122.224944    0.0    DOX\n",
      "717 2008-09-06 22:30:00  47.519938 -122.224958    0.0    DOX\n",
      "718 2008-09-06 23:00:00  47.519958 -122.224972    0.0    DOX\n",
      "719 2008-09-06 23:30:00  47.519979 -122.224986    0.0    DOX\n",
      "720 2008-09-07 00:00:00  47.520000 -122.225000    0.0    DOX\n",
      "\n",
      "[721 rows x 5 columns]\n"
     ]
    }
   ],
   "source": [
    "Var='DOX'\n",
    "filename='Sensor2008_'+Var+'.csv'\n",
    " \n",
    "Sensor = [Var for x in r] \n",
    "tabla=pd.DataFrame({'DateTime':DateTime,'Lat':Lat,'Lon':Lon,'Depth':Depth,'Sensor':Sensor},index=None)\n",
    "print(tabla)\n",
    "tabla.to_csv(filename,index=False)  #Escritura de resultados a excel\n"
   ]
  },
  {
   "cell_type": "code",
   "execution_count": 18,
   "metadata": {},
   "outputs": [
    {
     "name": "stdout",
     "output_type": "stream",
     "text": [
      "               DateTime        Lat         Lon  Depth Sensor\n",
      "0   2008-08-23 00:00:00  47.505000 -122.215000    0.0    ALG\n",
      "1   2008-08-23 00:30:00  47.505021 -122.215014    0.0    ALG\n",
      "2   2008-08-23 01:00:00  47.505042 -122.215028    0.0    ALG\n",
      "3   2008-08-23 01:30:00  47.505063 -122.215042    0.0    ALG\n",
      "4   2008-08-23 02:00:00  47.505083 -122.215056    0.0    ALG\n",
      "..                  ...        ...         ...    ...    ...\n",
      "716 2008-09-06 22:00:00  47.519917 -122.224944    0.0    ALG\n",
      "717 2008-09-06 22:30:00  47.519938 -122.224958    0.0    ALG\n",
      "718 2008-09-06 23:00:00  47.519958 -122.224972    0.0    ALG\n",
      "719 2008-09-06 23:30:00  47.519979 -122.224986    0.0    ALG\n",
      "720 2008-09-07 00:00:00  47.520000 -122.225000    0.0    ALG\n",
      "\n",
      "[721 rows x 5 columns]\n"
     ]
    }
   ],
   "source": [
    "Var='ALG'\n",
    "filename='Sensor2008_'+Var+'.csv'\n",
    "\n",
    "Sensor = [Var for x in r] \n",
    "tabla=pd.DataFrame({'DateTime':DateTime,'Lat':Lat,'Lon':Lon,'Depth':Depth,'Sensor':Sensor},index=None)\n",
    "print(tabla)\n",
    "tabla.to_csv(filename,index=False)  #Escritura de resultados a excel\n",
    "\n"
   ]
  },
  {
   "cell_type": "code",
   "execution_count": 19,
   "metadata": {},
   "outputs": [
    {
     "name": "stdout",
     "output_type": "stream",
     "text": [
      "               DateTime        Lat         Lon  Depth       Sensor\n",
      "0   2008-08-23 00:00:00  47.505000 -122.215000    0.0  temperature\n",
      "1   2008-08-23 00:30:00  47.505021 -122.215014    0.0  temperature\n",
      "2   2008-08-23 01:00:00  47.505042 -122.215028    0.0  temperature\n",
      "3   2008-08-23 01:30:00  47.505063 -122.215042    0.0  temperature\n",
      "4   2008-08-23 02:00:00  47.505083 -122.215056    0.0  temperature\n",
      "..                  ...        ...         ...    ...          ...\n",
      "716 2008-09-06 22:00:00  47.519917 -122.224944    0.0  temperature\n",
      "717 2008-09-06 22:30:00  47.519938 -122.224958    0.0  temperature\n",
      "718 2008-09-06 23:00:00  47.519958 -122.224972    0.0  temperature\n",
      "719 2008-09-06 23:30:00  47.519979 -122.224986    0.0  temperature\n",
      "720 2008-09-07 00:00:00  47.520000 -122.225000    0.0  temperature\n",
      "\n",
      "[721 rows x 5 columns]\n"
     ]
    }
   ],
   "source": [
    "Var='temperature'\n",
    "filename='Sensor2008_'+Var+'.csv'\n",
    "\n",
    "Sensor = [Var for x in r] \n",
    "tabla=pd.DataFrame({'DateTime':DateTime,'Lat':Lat,'Lon':Lon,'Depth':Depth,'Sensor':Sensor},index=None)\n",
    "print(tabla)\n",
    "tabla.to_csv(filename,index=False)  #Escritura de resultados a excel\n"
   ]
  },
  {
   "cell_type": "code",
   "execution_count": 20,
   "metadata": {},
   "outputs": [
    {
     "name": "stdout",
     "output_type": "stream",
     "text": [
      "               DateTime        Lat         Lon  Depth Sensor\n",
      "0   2008-08-23 00:00:00  47.505000 -122.215000    0.0      U\n",
      "1   2008-08-23 00:30:00  47.505021 -122.215014    0.0      U\n",
      "2   2008-08-23 01:00:00  47.505042 -122.215028    0.0      U\n",
      "3   2008-08-23 01:30:00  47.505063 -122.215042    0.0      U\n",
      "4   2008-08-23 02:00:00  47.505083 -122.215056    0.0      U\n",
      "..                  ...        ...         ...    ...    ...\n",
      "716 2008-09-06 22:00:00  47.519917 -122.224944    0.0      U\n",
      "717 2008-09-06 22:30:00  47.519938 -122.224958    0.0      U\n",
      "718 2008-09-06 23:00:00  47.519958 -122.224972    0.0      U\n",
      "719 2008-09-06 23:30:00  47.519979 -122.224986    0.0      U\n",
      "720 2008-09-07 00:00:00  47.520000 -122.225000    0.0      U\n",
      "\n",
      "[721 rows x 5 columns]\n"
     ]
    }
   ],
   "source": [
    "Var='U'\n",
    "filename='Sensor2008_'+Var+'.csv'\n",
    "\n",
    "Sensor = [Var for x in r] \n",
    "tabla=pd.DataFrame({'DateTime':DateTime,'Lat':Lat,'Lon':Lon,'Depth':Depth,'Sensor':Sensor},index=None)\n",
    "print(tabla)\n",
    "tabla.to_csv(filename,index=False)  #Escritura de resultados a excel\n"
   ]
  },
  {
   "cell_type": "code",
   "execution_count": 21,
   "metadata": {},
   "outputs": [
    {
     "name": "stdout",
     "output_type": "stream",
     "text": [
      "               DateTime        Lat         Lon  Depth Sensor\n",
      "0   2008-08-23 00:00:00  47.505000 -122.215000    0.0      V\n",
      "1   2008-08-23 00:30:00  47.505021 -122.215014    0.0      V\n",
      "2   2008-08-23 01:00:00  47.505042 -122.215028    0.0      V\n",
      "3   2008-08-23 01:30:00  47.505063 -122.215042    0.0      V\n",
      "4   2008-08-23 02:00:00  47.505083 -122.215056    0.0      V\n",
      "..                  ...        ...         ...    ...    ...\n",
      "716 2008-09-06 22:00:00  47.519917 -122.224944    0.0      V\n",
      "717 2008-09-06 22:30:00  47.519938 -122.224958    0.0      V\n",
      "718 2008-09-06 23:00:00  47.519958 -122.224972    0.0      V\n",
      "719 2008-09-06 23:30:00  47.519979 -122.224986    0.0      V\n",
      "720 2008-09-07 00:00:00  47.520000 -122.225000    0.0      V\n",
      "\n",
      "[721 rows x 5 columns]\n"
     ]
    }
   ],
   "source": [
    "Var='V'\n",
    "filename='Sensor2008_'+Var+'.csv'\n",
    "\n",
    "Sensor = [Var for x in r] \n",
    "tabla=pd.DataFrame({'DateTime':DateTime,'Lat':Lat,'Lon':Lon,'Depth':Depth,'Sensor':Sensor},index=None)\n",
    "print(tabla)\n",
    "tabla.to_csv(filename,index=False)  #Escritura de resultados a excel"
   ]
  },
  {
   "cell_type": "code",
   "execution_count": 22,
   "metadata": {},
   "outputs": [
    {
     "name": "stdout",
     "output_type": "stream",
     "text": [
      "               DateTime        Lat         Lon  Depth  Sensor\n",
      "0   2008-08-23 00:00:00  47.505000 -122.215000    NaN  wind_x\n",
      "1   2008-08-23 00:30:00  47.505021 -122.215014    NaN  wind_x\n",
      "2   2008-08-23 01:00:00  47.505042 -122.215028    NaN  wind_x\n",
      "3   2008-08-23 01:30:00  47.505063 -122.215042    NaN  wind_x\n",
      "4   2008-08-23 02:00:00  47.505083 -122.215056    NaN  wind_x\n",
      "..                  ...        ...         ...    ...     ...\n",
      "716 2008-09-06 22:00:00  47.519917 -122.224944    NaN  wind_x\n",
      "717 2008-09-06 22:30:00  47.519938 -122.224958    NaN  wind_x\n",
      "718 2008-09-06 23:00:00  47.519958 -122.224972    NaN  wind_x\n",
      "719 2008-09-06 23:30:00  47.519979 -122.224986    NaN  wind_x\n",
      "720 2008-09-07 00:00:00  47.520000 -122.225000    NaN  wind_x\n",
      "\n",
      "[721 rows x 5 columns]\n"
     ]
    }
   ],
   "source": [
    "Var='wind_x'\n",
    "filename='Sensor2008_'+Var+'.csv'\n",
    "\n",
    "\n",
    "dep=dep*np.nan\n",
    "Depth=dep.tolist()\n",
    "Sensor = [Var for x in r] \n",
    "\n",
    "import pandas as pd\n",
    "tabla=pd.DataFrame({'DateTime':DateTime,'Lat':Lat,'Lon':Lon,'Depth':Depth,'Sensor':Sensor},index=None)\n",
    "print(tabla)\n",
    "tabla.to_csv(filename,index=False)  #Escritura de resultados a excel\n"
   ]
  },
  {
   "cell_type": "code",
   "execution_count": 23,
   "metadata": {},
   "outputs": [
    {
     "name": "stdout",
     "output_type": "stream",
     "text": [
      "               DateTime        Lat         Lon  Depth  Sensor\n",
      "0   2008-08-23 00:00:00  47.505000 -122.215000    NaN  wind_y\n",
      "1   2008-08-23 00:30:00  47.505021 -122.215014    NaN  wind_y\n",
      "2   2008-08-23 01:00:00  47.505042 -122.215028    NaN  wind_y\n",
      "3   2008-08-23 01:30:00  47.505063 -122.215042    NaN  wind_y\n",
      "4   2008-08-23 02:00:00  47.505083 -122.215056    NaN  wind_y\n",
      "..                  ...        ...         ...    ...     ...\n",
      "716 2008-09-06 22:00:00  47.519917 -122.224944    NaN  wind_y\n",
      "717 2008-09-06 22:30:00  47.519938 -122.224958    NaN  wind_y\n",
      "718 2008-09-06 23:00:00  47.519958 -122.224972    NaN  wind_y\n",
      "719 2008-09-06 23:30:00  47.519979 -122.224986    NaN  wind_y\n",
      "720 2008-09-07 00:00:00  47.520000 -122.225000    NaN  wind_y\n",
      "\n",
      "[721 rows x 5 columns]\n"
     ]
    }
   ],
   "source": [
    "Var='wind_y'\n",
    "filename='Sensor2008_'+Var+'.csv'\n",
    " \n",
    "dep=dep*np.nan\n",
    "Depth=dep.tolist()\n",
    "Sensor = [Var for x in r] \n",
    "\n",
    "import pandas as pd\n",
    "tabla=pd.DataFrame({'DateTime':DateTime,'Lat':Lat,'Lon':Lon,'Depth':Depth,'Sensor':Sensor},index=None)\n",
    "print(tabla)\n",
    "tabla.to_csv(filename,index=False)  #Escritura de resultados a excel"
   ]
  },
  {
   "cell_type": "code",
   "execution_count": 24,
   "metadata": {},
   "outputs": [
    {
     "name": "stdout",
     "output_type": "stream",
     "text": [
      "               DateTime  Lat  Lon  Depth Sensor\n",
      "0   2008-08-23 00:00:00  NaN  NaN    NaN    sun\n",
      "1   2008-08-23 00:30:00  NaN  NaN    NaN    sun\n",
      "2   2008-08-23 01:00:00  NaN  NaN    NaN    sun\n",
      "3   2008-08-23 01:30:00  NaN  NaN    NaN    sun\n",
      "4   2008-08-23 02:00:00  NaN  NaN    NaN    sun\n",
      "..                  ...  ...  ...    ...    ...\n",
      "716 2008-09-06 22:00:00  NaN  NaN    NaN    sun\n",
      "717 2008-09-06 22:30:00  NaN  NaN    NaN    sun\n",
      "718 2008-09-06 23:00:00  NaN  NaN    NaN    sun\n",
      "719 2008-09-06 23:30:00  NaN  NaN    NaN    sun\n",
      "720 2008-09-07 00:00:00  NaN  NaN    NaN    sun\n",
      "\n",
      "[721 rows x 5 columns]\n"
     ]
    }
   ],
   "source": [
    "Var='sun'\n",
    "filename='Sensor2008_'+Var+'.csv'\n",
    " \n",
    "#Depth=NaN\n",
    "dep=dep*np.nan\n",
    "lat=lat*np.nan\n",
    "lon=lon*np.nan\n",
    "Depth=dep.tolist()\n",
    "Lat=lat.tolist()\n",
    "Lon=lon.tolist()\n",
    "#print(Depth)\n",
    "Sensor = [Var for x in r] \n",
    "\n",
    "import pandas as pd\n",
    "tabla=pd.DataFrame({'DateTime':DateTime,'Lat':Lat,'Lon':Lon,'Depth':Depth,'Sensor':Sensor},index=None)\n",
    "print(tabla)\n",
    "tabla.to_csv(filename,index=False)  #Escritura de resultados a excel"
   ]
  },
  {
   "cell_type": "code",
   "execution_count": 25,
   "metadata": {},
   "outputs": [
    {
     "data": {
      "image/png": "[encoded data removed]",
      "text/plain": [
       "<Figure size 432x288 with 4 Axes>"
      ]
     },
     "metadata": {
      "needs_background": "light"
     },
     "output_type": "display_data"
    }
   ],
   "source": [
    "Var='NOX'\n",
    "filename='Sensor2008_'+Var+'.csv'\n",
    "\n",
    "#Representación\n",
    "PB=pd.read_csv(filename)  #Lectura de resultados excel\n",
    "\n",
    "t=PB['DateTime']\n",
    "x3=PB['Lon']\n",
    "y3=PB['Lat']\n",
    "z3=PB['Depth']\n",
    "\n",
    "fig1 = plt.figure()\n",
    "#ax1 = fig.gca(projection='3d')\n",
    "#plt.rcParams[\"figure.figsize\"] = (10,10)\n",
    "\n",
    "ax1=plt.subplot(221)\n",
    "ax1.plot(x3,z3,color='b',marker='o')\n",
    "ax1.set_title('PerfilXZ (Lat-Depth)')\n",
    "ax1.set_xlabel('Lon(º)')\n",
    "ax1.set_ylabel('Depth(m))')\n",
    "ax2=plt.subplot(222)\n",
    "ax2.plot(y3,z3,color='b',marker='o')\n",
    "ax2.set_title('AlzadoYZ (Lat-Depth)')\n",
    "ax2.set_xlabel('Lat(º)')\n",
    "ax2.set_ylabel('Depth(m)')\n",
    "ax3=plt.subplot(223)\n",
    "ax3.plot(x3,y3,color='b',marker='o')\n",
    "ax3.set_title('PlantaXY (Lat-Lon)')\n",
    "ax3.set_xlabel('Lon(º)')\n",
    "ax3.set_ylabel('Lat(º)')\n",
    "ax3=plt.subplot(224)\n",
    "ax3.plot(t,z3,color='b',marker='o')\n",
    "ax3.set_title('Time-Depth')\n",
    "ax3.set_xlabel('Time')\n",
    "ax3.set_ylabel('Depth(m)')\n",
    "\n",
    "plt.show()"
   ]
  }
 ],
 "metadata": {
  "kernelspec": {
   "display_name": "Python 3.10.4 64-bit",
   "language": "python",
   "name": "python3"
  },
  "language_info": {
   "codemirror_mode": {
    "name": "ipython",
    "version": 3
   },
   "file_extension": ".py",
   "mimetype": "text/x-python",
   "name": "python",
   "nbconvert_exporter": "python",
   "pygments_lexer": "ipython3",
   "version": "3.10.4"
  },
  "orig_nbformat": 4,
  "vscode": {
   "interpreter": {
    "hash": "dbdcf905b9deaefeb5859c5ed7499c290feb0d7339eb88e6e807714f790096aa"
   }
  }
 },
 "nbformat": 4,
 "nbformat_minor": 2
}
